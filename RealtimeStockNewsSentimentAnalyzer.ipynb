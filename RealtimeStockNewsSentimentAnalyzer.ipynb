{
 "cells": [
  {
   "cell_type": "code",
   "execution_count": null,
   "id": "b47635d6",
   "metadata": {},
   "outputs": [],
   "source": [
    "from bs4 import BeautifulSoup\n",
    "import pandas as pd\n",
    "from urllib.request import urlopen, Request"
   ]
  },
  {
   "cell_type": "code",
   "execution_count": null,
   "id": "a3b09ed3",
   "metadata": {},
   "outputs": [],
   "source": [
    "def get_ticks(url):\n",
    "    req = Request(url=url,headers={\"User-Agent\": \"Chrome\"}) \n",
    "    response = urlopen(req)    \n",
    "    html = BeautifulSoup(response,\"html.parser\")\n",
    "    news_table = html.find(class_ = 'page')\n",
    "    \n",
    "    ticks = list()\n",
    "    stocks = list()\n",
    "    for name_box in news_table.find_all('a', href = True):\n",
    "        stocks.append(name_box.text.strip())\n",
    "        ticks.append(name_box['href'].split('-')[-1].strip())\n",
    "    d = {'stock':stocks, 'tick':ticks}\n",
    "    df = pd.DataFrame(data = d)\n",
    "    return df"
   ]
  },
  {
   "cell_type": "code",
   "execution_count": null,
   "id": "450d366c",
   "metadata": {},
   "outputs": [],
   "source": [
    "url = \"https://www.tickertape.in/stocks\"\n",
    "\n",
    "tick_df = get_ticks(url)"
   ]
  },
  {
   "cell_type": "code",
   "execution_count": null,
   "id": "69d4d162",
   "metadata": {},
   "outputs": [],
   "source": [
    "tick_df"
   ]
  },
  {
   "cell_type": "code",
   "execution_count": null,
   "id": "df84125a",
   "metadata": {},
   "outputs": [],
   "source": [
    "def get_data(url):\n",
    "    req = Request(url=url,headers={\"User-Agent\": \"Chrome\"}) \n",
    "    response = urlopen(req).read()    \n",
    "    html = BeautifulSoup(response,\"html.parser\")\n",
    "    news_table = html.find(class_ = 'latest-news-holder')\n",
    "    \n",
    "    news = list()\n",
    "    \n",
    "    for name_box in news_table.find_all('p', class_='shave-root'):\n",
    "        news.append(name_box.text.strip())\n",
    "    \n",
    "    return news"
   ]
  },
  {
   "cell_type": "code",
   "execution_count": null,
   "id": "c072b29b",
   "metadata": {},
   "outputs": [],
   "source": [
    "news = list()\n",
    "for i, tick in enumerate(tick_df['tick']):\n",
    "    url = \"https://www.tickertape.in/stocks/\" + tick + \"/news?checklist=basic&ref=stock-overview_overview-sections&type=news\"\n",
    "    headlines = get_data(url)\n",
    "    news.append(headlines)"
   ]
  },
  {
   "cell_type": "code",
   "execution_count": null,
   "id": "c34ab64b",
   "metadata": {},
   "outputs": [],
   "source": [
    "for i, n in enumerate(news):\n",
    "    print(i+1, \")\", n)\n",
    "    print('-------')"
   ]
  },
  {
   "cell_type": "code",
   "execution_count": null,
   "id": "29d23b30",
   "metadata": {},
   "outputs": [],
   "source": [
    "from transformers import BertTokenizer, BertForSequenceClassification\n",
    "import numpy as np\n",
    "\n",
    "finbert = BertForSequenceClassification.from_pretrained('yiyanghkust/finbert-tone',num_labels=3)\n",
    "tokenizer = BertTokenizer.from_pretrained('yiyanghkust/finbert-tone')"
   ]
  },
  {
   "cell_type": "code",
   "execution_count": null,
   "id": "7c3bc8ac",
   "metadata": {},
   "outputs": [],
   "source": [
    "labels = {0:'neutral', 1:'positive',2:'negative'}"
   ]
  },
  {
   "cell_type": "code",
   "execution_count": null,
   "id": "92f01e33",
   "metadata": {},
   "outputs": [],
   "source": [
    "def detect(news):\n",
    "    tot_val = list()\n",
    "    for n in news:\n",
    "        if len(n) == 0:\n",
    "            tot_val.append(['neutral'])\n",
    "        else:\n",
    "            inputs = tokenizer(n, return_tensors=\"pt\", padding=True)\n",
    "            outputs = finbert(**inputs)[0]\n",
    "            val = list()\n",
    "            for idx, sent in enumerate(n):\n",
    "                val.append(labels[np.argmax(outputs.detach().numpy()[idx])])\n",
    "                print(sent, '----', val[idx])\n",
    "            print('#######################################################')    \n",
    "            tot_val.append(val)\n",
    "    return tot_val"
   ]
  },
  {
   "cell_type": "code",
   "execution_count": null,
   "id": "b1a65aa9",
   "metadata": {},
   "outputs": [],
   "source": [
    "tot_val = detect(news)\n",
    "\n",
    "print(tot_val)"
   ]
  },
  {
   "cell_type": "code",
   "execution_count": null,
   "id": "3f9d595d",
   "metadata": {},
   "outputs": [],
   "source": [
    "def get_sent(val):\n",
    "    agg = 0\n",
    "    for i in val:\n",
    "        if i == 'positive':\n",
    "            agg = agg + 1\n",
    "        elif i == 'negative':\n",
    "            agg = agg - 1\n",
    "\n",
    "    if agg > 0:\n",
    "        return('positive')\n",
    "    elif agg < 0:\n",
    "        return('negative')\n",
    "    else:\n",
    "        return('neutral')"
   ]
  },
  {
   "cell_type": "code",
   "execution_count": null,
   "id": "322af149",
   "metadata": {},
   "outputs": [],
   "source": [
    "sent = list()\n",
    "for i in tot_val:\n",
    "    sent.append(get_sent(i))"
   ]
  },
  {
   "cell_type": "code",
   "execution_count": null,
   "id": "363be8cb",
   "metadata": {},
   "outputs": [],
   "source": [
    "sent"
   ]
  },
  {
   "cell_type": "code",
   "execution_count": null,
   "id": "e71d3ade",
   "metadata": {},
   "outputs": [],
   "source": [
    "tick_df['sentiment'] = sent \n",
    "\n",
    "tick_df.head(20)"
   ]
  }
 ],
 "metadata": {
  "kernelspec": {
   "display_name": "tensorflow",
   "language": "python",
   "name": "tensorflow"
  },
  "language_info": {
   "codemirror_mode": {
    "name": "ipython",
    "version": 3
   },
   "file_extension": ".py",
   "mimetype": "text/x-python",
   "name": "python",
   "nbconvert_exporter": "python",
   "pygments_lexer": "ipython3",
   "version": "3.7.9"
  }
 },
 "nbformat": 4,
 "nbformat_minor": 5
}
